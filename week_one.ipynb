{
  "nbformat": 4,
  "nbformat_minor": 0,
  "metadata": {
    "colab": {
      "name": "week_one.ipynb",
      "provenance": [],
      "collapsed_sections": [
        "8nmCK2KcgT9v",
        "ZzK0tRNbg1qa",
        "3UYZmnboioyR",
        "QgD0uQB4jWtM",
        "Ijcx4aoNkqdN",
        "VprWCZxBw8aa"
      ],
      "authorship_tag": "ABX9TyOaF51yHChlYmMyOM7GIZSZ",
      "include_colab_link": true
    },
    "kernelspec": {
      "name": "python3",
      "display_name": "Python 3"
    }
  },
  "cells": [
    {
      "cell_type": "markdown",
      "metadata": {
        "id": "view-in-github",
        "colab_type": "text"
      },
      "source": [
        "<a href=\"https://colab.research.google.com/github/ranujap00/python-bootcamp/blob/main/week_one.ipynb\" target=\"_parent\"><img src=\"https://colab.research.google.com/assets/colab-badge.svg\" alt=\"Open In Colab\"/></a>"
      ]
    },
    {
      "cell_type": "markdown",
      "metadata": {
        "id": "8nmCK2KcgT9v"
      },
      "source": [
        "# Calling an **API**\n"
      ]
    },
    {
      "cell_type": "code",
      "metadata": {
        "id": "BrHOZpTLeilx"
      },
      "source": [
        "import requests\n",
        "\n",
        "response = requests.get('https://www.google.com')\n",
        "print(response)"
      ],
      "execution_count": null,
      "outputs": []
    },
    {
      "cell_type": "markdown",
      "metadata": {
        "id": "ZzK0tRNbg1qa"
      },
      "source": [
        "# Data Structures\n",
        "\n",
        "#### lists"
      ]
    },
    {
      "cell_type": "code",
      "metadata": {
        "colab": {
          "base_uri": "https://localhost:8080/"
        },
        "id": "vaXiZSs_hN0w",
        "outputId": "666e44ec-2c2a-4eb0-b92e-0a7caa63c7d8"
      },
      "source": [
        "data = ['caleb', 'ranuja']\n",
        "print(data[1])\n",
        "\n",
        "data.append('Jimmy')\n",
        "data.append([\"hello\"])\n",
        "\n",
        "# slicing\n",
        "print(data[1:3])\n",
        "print(data[:4:2])"
      ],
      "execution_count": null,
      "outputs": [
        {
          "output_type": "stream",
          "text": [
            "ranuja\n",
            "['ranuja', 'Jimmy']\n",
            "['caleb', 'Jimmy']\n"
          ],
          "name": "stdout"
        }
      ]
    },
    {
      "cell_type": "markdown",
      "metadata": {
        "id": "3UYZmnboioyR"
      },
      "source": [
        "#### sets"
      ]
    },
    {
      "cell_type": "code",
      "metadata": {
        "colab": {
          "base_uri": "https://localhost:8080/"
        },
        "id": "OrmYAIwcivHl",
        "outputId": "ee01b065-248a-4a78-a62c-6e8bf1301e76"
      },
      "source": [
        "data = {'caleb', 'ranuja', 'hello', 'ranuja'}\n",
        "print(data)"
      ],
      "execution_count": null,
      "outputs": [
        {
          "output_type": "stream",
          "text": [
            "{'caleb', 'hello', 'ranuja'}\n"
          ],
          "name": "stdout"
        }
      ]
    },
    {
      "cell_type": "markdown",
      "metadata": {
        "id": "QgD0uQB4jWtM"
      },
      "source": [
        "#### dictionaries (key value pairs)"
      ]
    },
    {
      "cell_type": "markdown",
      "metadata": {
        "id": "okz7ZBdSkEEj"
      },
      "source": [
        "repeating values are gonna get replaced"
      ]
    },
    {
      "cell_type": "code",
      "metadata": {
        "colab": {
          "base_uri": "https://localhost:8080/"
        },
        "id": "XzKSdtxNjeDT",
        "outputId": "13fc7740-0435-423b-e630-25a1099da706"
      },
      "source": [
        "data_dictionary = {\n",
        "    'caleb' : 5,\n",
        "    'ranuja' : 10,\n",
        "    'jimmy' : 15,\n",
        "    'caleb' : 4\n",
        "}\n",
        "\n",
        "print(data_dictionary)\n",
        "print(data_dictionary.get('caleb'))"
      ],
      "execution_count": null,
      "outputs": [
        {
          "output_type": "stream",
          "text": [
            "{'caleb': 4, 'ranuja': 10, 'jimmy': 15}\n",
            "4\n"
          ],
          "name": "stdout"
        }
      ]
    },
    {
      "cell_type": "markdown",
      "metadata": {
        "id": "Ijcx4aoNkqdN"
      },
      "source": [
        "# control flow (loops and statements)"
      ]
    },
    {
      "cell_type": "code",
      "metadata": {
        "id": "8pCJCtcKk4V5"
      },
      "source": [
        "for i in range(10):\n",
        "    print(i)"
      ],
      "execution_count": null,
      "outputs": []
    },
    {
      "cell_type": "code",
      "metadata": {
        "id": "UfEyEk0rn21X"
      },
      "source": [
        "data = ['a', 'b', 'c', 'd', 'e']\n",
        "\n",
        "for i in range(len(data)):\n",
        "    print(data[i])"
      ],
      "execution_count": null,
      "outputs": []
    },
    {
      "cell_type": "code",
      "metadata": {
        "id": "wYrElsSdoRqM"
      },
      "source": [
        "data = ['a', 'b', 'c', 'd', 'e']\n",
        "\n",
        "data.append('f')\n",
        "for letter in data:\n",
        "    print(letter)"
      ],
      "execution_count": null,
      "outputs": []
    },
    {
      "cell_type": "code",
      "metadata": {
        "id": "c0-J3G8xqejq"
      },
      "source": [
        "# enumerate method used to find the index\n",
        "data = ['a', 'b', 'c', 'd', 'e']\n",
        "\n",
        "for index, letter in enumerate(data):\n",
        "    print(index, letter)"
      ],
      "execution_count": null,
      "outputs": []
    },
    {
      "cell_type": "code",
      "metadata": {
        "id": "x5bNhLVcsGjl"
      },
      "source": [
        "data = ['a', 'b', 'c', 'd', 'e']\n",
        "\n",
        "i = 0\n",
        "while i < len(data):\n",
        "    print(data[i], end='  ')\n",
        "    i += 1"
      ],
      "execution_count": null,
      "outputs": []
    },
    {
      "cell_type": "code",
      "metadata": {
        "id": "zzXtmjXttZah"
      },
      "source": [
        "while True:  # creates an infinite loop\n",
        "    x = input()\n",
        "    if x == \"stop\":\n",
        "        break\n",
        "    elif x == 'special':\n",
        "        continue\n",
        "\n",
        "    print(\"printing data.....\")"
      ],
      "execution_count": null,
      "outputs": []
    },
    {
      "cell_type": "code",
      "metadata": {
        "id": "9e8eT3HOuSs3"
      },
      "source": [
        "# iterating through a dictionary\n",
        "data_dictionary = {\n",
        "    'caleb' : 5,\n",
        "    'ranuja' : 10,\n",
        "    'jimmy' : 15,\n",
        "    'caleb' : 4\n",
        "}\n",
        "for key, value in data_dictionary.items():\n",
        "    print(key, value)"
      ],
      "execution_count": null,
      "outputs": []
    },
    {
      "cell_type": "markdown",
      "metadata": {
        "id": "VprWCZxBw8aa"
      },
      "source": [
        "# Guessing game"
      ]
    },
    {
      "cell_type": "code",
      "metadata": {
        "id": "L_hTgrVSxFp1"
      },
      "source": [
        "import random\n",
        "random_number = random.randint(0, 100)\n",
        "\n",
        "print(\"enter a value between 0 and 100\")\n",
        "\n",
        "while True:\n",
        "    value = int(input())  \n",
        "\n",
        "    if value == random_number:\n",
        "        print(\"you win...\")\n",
        "        break\n",
        "\n",
        "    elif value > random_number:\n",
        "        print(f\"enter a value less than {value}\")  \n",
        "\n",
        "    elif value < random_number:\n",
        "        print(f\"enter a value greater than {value}\")\n",
        "          "
      ],
      "execution_count": null,
      "outputs": []
    }
  ]
}